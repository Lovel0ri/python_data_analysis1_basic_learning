{
 "cells": [
  {
   "cell_type": "code",
   "execution_count": 1,
   "metadata": {
    "collapsed": true
   },
   "outputs": [],
   "source": [
    "from pandas import pandas as pd\n",
    "file = '3.txt'\n",
    "\n",
    "df = pd.read_csv(file, sep='\\t', header=None)\n"
   ]
  },
  {
   "cell_type": "code",
   "execution_count": 2,
   "outputs": [
    {
     "data": {
      "text/plain": "                                      0     1                    2  3   \\\n0  G000337004006010101302022122219551951  0101  2022-12-22 19:55:19  1   \n1  G000337004006010101302022122220025553  0101  2022-12-22 20:02:55  1   \n2  G000337004006010101302022122220041957  0101  2022-12-22 20:04:19  1   \n3  G000337004006010101302022122220221767  0101  2022-12-22 20:22:17  1   \n4  G000337004006010101302022122220242571  0101  2022-12-22 20:24:25  1   \n\n       4   5               6                      7                    8  9   \\\n0  020307  83  G0003370040060  G00033700400601010130  2022-12-22 19:55:19  1   \n1  020307  83  G0003370040060  G00033700400601010130  2022-12-22 20:02:55  1   \n2  020307  83  G0003370040060  G00033700400601010130  2022-12-22 20:04:19  1   \n3  020307  83  G0003370040060  G00033700400601010130  2022-12-22 20:22:17  1   \n4  020307  83  G0003370040060  G00033700400601010130  2022-12-22 20:24:25  1   \n\n  10 11       12 13 14 15                                    16  \n0  1  0  鲁PT2256  0  1  0  013701210423024622211420221222195519  \n1  1  0  冀DU913J  0  1  0  011301190723000342912520221222200255  \n2  1  0  鲁N3639W  0  1  0  013701180123020184804320221222200419  \n3  1  0  浙F59HX5  0  1  0  011301191123000274625620221222202217  \n4  1  0  鲁AA11W5  0  1  0  013701180123020146315920221222202425  ",
      "text/html": "<div>\n<style scoped>\n    .dataframe tbody tr th:only-of-type {\n        vertical-align: middle;\n    }\n\n    .dataframe tbody tr th {\n        vertical-align: top;\n    }\n\n    .dataframe thead th {\n        text-align: right;\n    }\n</style>\n<table border=\"1\" class=\"dataframe\">\n  <thead>\n    <tr style=\"text-align: right;\">\n      <th></th>\n      <th>0</th>\n      <th>1</th>\n      <th>2</th>\n      <th>3</th>\n      <th>4</th>\n      <th>5</th>\n      <th>6</th>\n      <th>7</th>\n      <th>8</th>\n      <th>9</th>\n      <th>10</th>\n      <th>11</th>\n      <th>12</th>\n      <th>13</th>\n      <th>14</th>\n      <th>15</th>\n      <th>16</th>\n    </tr>\n  </thead>\n  <tbody>\n    <tr>\n      <th>0</th>\n      <td>G000337004006010101302022122219551951</td>\n      <td>0101</td>\n      <td>2022-12-22 19:55:19</td>\n      <td>1</td>\n      <td>020307</td>\n      <td>83</td>\n      <td>G0003370040060</td>\n      <td>G00033700400601010130</td>\n      <td>2022-12-22 19:55:19</td>\n      <td>1</td>\n      <td>1</td>\n      <td>0</td>\n      <td>鲁PT2256</td>\n      <td>0</td>\n      <td>1</td>\n      <td>0</td>\n      <td>013701210423024622211420221222195519</td>\n    </tr>\n    <tr>\n      <th>1</th>\n      <td>G000337004006010101302022122220025553</td>\n      <td>0101</td>\n      <td>2022-12-22 20:02:55</td>\n      <td>1</td>\n      <td>020307</td>\n      <td>83</td>\n      <td>G0003370040060</td>\n      <td>G00033700400601010130</td>\n      <td>2022-12-22 20:02:55</td>\n      <td>1</td>\n      <td>1</td>\n      <td>0</td>\n      <td>冀DU913J</td>\n      <td>0</td>\n      <td>1</td>\n      <td>0</td>\n      <td>011301190723000342912520221222200255</td>\n    </tr>\n    <tr>\n      <th>2</th>\n      <td>G000337004006010101302022122220041957</td>\n      <td>0101</td>\n      <td>2022-12-22 20:04:19</td>\n      <td>1</td>\n      <td>020307</td>\n      <td>83</td>\n      <td>G0003370040060</td>\n      <td>G00033700400601010130</td>\n      <td>2022-12-22 20:04:19</td>\n      <td>1</td>\n      <td>1</td>\n      <td>0</td>\n      <td>鲁N3639W</td>\n      <td>0</td>\n      <td>1</td>\n      <td>0</td>\n      <td>013701180123020184804320221222200419</td>\n    </tr>\n    <tr>\n      <th>3</th>\n      <td>G000337004006010101302022122220221767</td>\n      <td>0101</td>\n      <td>2022-12-22 20:22:17</td>\n      <td>1</td>\n      <td>020307</td>\n      <td>83</td>\n      <td>G0003370040060</td>\n      <td>G00033700400601010130</td>\n      <td>2022-12-22 20:22:17</td>\n      <td>1</td>\n      <td>1</td>\n      <td>0</td>\n      <td>浙F59HX5</td>\n      <td>0</td>\n      <td>1</td>\n      <td>0</td>\n      <td>011301191123000274625620221222202217</td>\n    </tr>\n    <tr>\n      <th>4</th>\n      <td>G000337004006010101302022122220242571</td>\n      <td>0101</td>\n      <td>2022-12-22 20:24:25</td>\n      <td>1</td>\n      <td>020307</td>\n      <td>83</td>\n      <td>G0003370040060</td>\n      <td>G00033700400601010130</td>\n      <td>2022-12-22 20:24:25</td>\n      <td>1</td>\n      <td>1</td>\n      <td>0</td>\n      <td>鲁AA11W5</td>\n      <td>0</td>\n      <td>1</td>\n      <td>0</td>\n      <td>013701180123020146315920221222202425</td>\n    </tr>\n  </tbody>\n</table>\n</div>"
     },
     "execution_count": 2,
     "metadata": {},
     "output_type": "execute_result"
    }
   ],
   "source": [
    "#以;分割\n",
    "df = df[0].str.split(';', expand=True)\n",
    "df\n",
    "#去除每一列中的空格\n",
    "for i in range(0, len(df.columns)):\n",
    "    df[i] = df[i].str.strip()\n",
    "df.head()"
   ],
   "metadata": {
    "collapsed": false
   }
  },
  {
   "cell_type": "code",
   "execution_count": 35,
   "outputs": [],
   "source": [
    "# #将数据转换为dataframe\n",
    "# df = pd.DataFrame(df)\n",
    "# df\n",
    "# #写入本地\n",
    "# df.to_csv('3.csv', index=False, header=False, encoding='gbk')"
   ],
   "metadata": {
    "collapsed": false
   }
  },
  {
   "cell_type": "code",
   "execution_count": 12,
   "outputs": [
    {
     "data": {
      "text/plain": "True"
     },
     "execution_count": 12,
     "metadata": {},
     "output_type": "execute_result"
    }
   ],
   "source": [
    "#G000337004006010101302022122219551951\n",
    "\"G0003370040060\" in \"G000337004006010101302022122219551951    \""
   ],
   "metadata": {
    "collapsed": false
   }
  },
  {
   "cell_type": "code",
   "execution_count": 43,
   "outputs": [
    {
     "data": {
      "text/plain": "               id  stationId  lys_id NAME  stakeNum fullName pidTollroad  \\\n0  G0002370040010      40901    65.0   港沟  K400+000    山东港沟站  15_G000237   \n1  G0002370040020      40902    66.0   蟠龙  K404+547    山东蟠龙站  15_G000237   \n2  G0002370040030      40903    67.0   彩石  K415+000    山东彩石站  15_G000237   \n3  G0002370040040      40904     NaN   曹范       NaN    山东曹范站  15_G000237   \n4  G0002370040050      40905    69.0   埠村  K428+000    山东埠村站  15_G000237   \n\n     pidSection pSectionName  pidOwner  ...        lat         lng regionName  \\\n0  22_G00023703          济莱路  21_GO102  ...  36.629742  117.176130         济南   \n1  22_G00023703          济莱路  21_GO102  ...  36.628114  117.223679         济南   \n2  22_G00023703          济莱路  21_GO102  ...  36.615665  117.329523         济南   \n3           NaN          NaN       NaN  ...  36.611207  117.399573        济南市   \n4  22_G00023703          济莱路  21_GO102  ...  36.601365  117.477160         济南   \n\n  countryName  regionlismCode  useStatus orgTypeGroup         update_time  \\\n0         历城区          370112          1            5 2022-06-09 11:22:30   \n1         历城区          370112          1            5 2022-06-09 11:22:30   \n2         历城区          370112          1            5 2022-06-09 11:22:30   \n3         章丘区          370114          3            5 2022-06-06 16:28:14   \n4         章丘区          370114          1            5 2022-06-13 14:00:31   \n\n      gd_lat      gd_lng  \n0  36.629877  117.176286  \n1  36.628116  117.223680  \n2  36.613561  117.331852  \n3  36.631502  117.412580  \n4  36.596841  117.477718  \n\n[5 rows x 27 columns]",
      "text/html": "<div>\n<style scoped>\n    .dataframe tbody tr th:only-of-type {\n        vertical-align: middle;\n    }\n\n    .dataframe tbody tr th {\n        vertical-align: top;\n    }\n\n    .dataframe thead th {\n        text-align: right;\n    }\n</style>\n<table border=\"1\" class=\"dataframe\">\n  <thead>\n    <tr style=\"text-align: right;\">\n      <th></th>\n      <th>id</th>\n      <th>stationId</th>\n      <th>lys_id</th>\n      <th>NAME</th>\n      <th>stakeNum</th>\n      <th>fullName</th>\n      <th>pidTollroad</th>\n      <th>pidSection</th>\n      <th>pSectionName</th>\n      <th>pidOwner</th>\n      <th>...</th>\n      <th>lat</th>\n      <th>lng</th>\n      <th>regionName</th>\n      <th>countryName</th>\n      <th>regionlismCode</th>\n      <th>useStatus</th>\n      <th>orgTypeGroup</th>\n      <th>update_time</th>\n      <th>gd_lat</th>\n      <th>gd_lng</th>\n    </tr>\n  </thead>\n  <tbody>\n    <tr>\n      <th>0</th>\n      <td>G0002370040010</td>\n      <td>40901</td>\n      <td>65.0</td>\n      <td>港沟</td>\n      <td>K400+000</td>\n      <td>山东港沟站</td>\n      <td>15_G000237</td>\n      <td>22_G00023703</td>\n      <td>济莱路</td>\n      <td>21_GO102</td>\n      <td>...</td>\n      <td>36.629742</td>\n      <td>117.176130</td>\n      <td>济南</td>\n      <td>历城区</td>\n      <td>370112</td>\n      <td>1</td>\n      <td>5</td>\n      <td>2022-06-09 11:22:30</td>\n      <td>36.629877</td>\n      <td>117.176286</td>\n    </tr>\n    <tr>\n      <th>1</th>\n      <td>G0002370040020</td>\n      <td>40902</td>\n      <td>66.0</td>\n      <td>蟠龙</td>\n      <td>K404+547</td>\n      <td>山东蟠龙站</td>\n      <td>15_G000237</td>\n      <td>22_G00023703</td>\n      <td>济莱路</td>\n      <td>21_GO102</td>\n      <td>...</td>\n      <td>36.628114</td>\n      <td>117.223679</td>\n      <td>济南</td>\n      <td>历城区</td>\n      <td>370112</td>\n      <td>1</td>\n      <td>5</td>\n      <td>2022-06-09 11:22:30</td>\n      <td>36.628116</td>\n      <td>117.223680</td>\n    </tr>\n    <tr>\n      <th>2</th>\n      <td>G0002370040030</td>\n      <td>40903</td>\n      <td>67.0</td>\n      <td>彩石</td>\n      <td>K415+000</td>\n      <td>山东彩石站</td>\n      <td>15_G000237</td>\n      <td>22_G00023703</td>\n      <td>济莱路</td>\n      <td>21_GO102</td>\n      <td>...</td>\n      <td>36.615665</td>\n      <td>117.329523</td>\n      <td>济南</td>\n      <td>历城区</td>\n      <td>370112</td>\n      <td>1</td>\n      <td>5</td>\n      <td>2022-06-09 11:22:30</td>\n      <td>36.613561</td>\n      <td>117.331852</td>\n    </tr>\n    <tr>\n      <th>3</th>\n      <td>G0002370040040</td>\n      <td>40904</td>\n      <td>NaN</td>\n      <td>曹范</td>\n      <td>NaN</td>\n      <td>山东曹范站</td>\n      <td>15_G000237</td>\n      <td>NaN</td>\n      <td>NaN</td>\n      <td>NaN</td>\n      <td>...</td>\n      <td>36.611207</td>\n      <td>117.399573</td>\n      <td>济南市</td>\n      <td>章丘区</td>\n      <td>370114</td>\n      <td>3</td>\n      <td>5</td>\n      <td>2022-06-06 16:28:14</td>\n      <td>36.631502</td>\n      <td>117.412580</td>\n    </tr>\n    <tr>\n      <th>4</th>\n      <td>G0002370040050</td>\n      <td>40905</td>\n      <td>69.0</td>\n      <td>埠村</td>\n      <td>K428+000</td>\n      <td>山东埠村站</td>\n      <td>15_G000237</td>\n      <td>22_G00023703</td>\n      <td>济莱路</td>\n      <td>21_GO102</td>\n      <td>...</td>\n      <td>36.601365</td>\n      <td>117.477160</td>\n      <td>济南</td>\n      <td>章丘区</td>\n      <td>370114</td>\n      <td>1</td>\n      <td>5</td>\n      <td>2022-06-13 14:00:31</td>\n      <td>36.596841</td>\n      <td>117.477718</td>\n    </tr>\n  </tbody>\n</table>\n<p>5 rows × 27 columns</p>\n</div>"
     },
     "execution_count": 43,
     "metadata": {},
     "output_type": "execute_result"
    }
   ],
   "source": [
    "df_ids = pd.read_excel('id.xls', header=0)\n",
    "df_ids.head()"
   ],
   "metadata": {
    "collapsed": false
   }
  },
  {
   "cell_type": "code",
   "execution_count": 47,
   "outputs": [
    {
     "data": {
      "text/plain": "['G0002370040010',\n 'G0002370040020',\n 'G0002370040030',\n 'G0002370040040',\n 'G0002370040050',\n 'G0002370040060',\n 'G0002370040070',\n 'G0002370040080',\n 'G0002370080010',\n 'G0002370080020',\n 'G0002370080030',\n 'G0002370090010',\n 'G0002370090020',\n 'G0002370090030',\n 'G0002370100010',\n 'G0002370100020',\n 'G0002370110010',\n 'G0002370110020',\n 'G0002370110040',\n 'G0002370120010',\n 'G0002370120020',\n 'G0002370120050',\n 'G0002370140010',\n 'G0002370140020',\n 'G0003370040010',\n 'G0003370040020',\n 'G0003370040030',\n 'G0003370040040',\n 'G0003370040050',\n 'G0003370040060',\n 'G0020370060010',\n 'G0020370060030',\n 'G0020370060040',\n 'G0020370060050',\n 'G0020370060060',\n 'G0022370040010',\n 'G0022370070050',\n 'G0022370070060',\n 'G0022370090010',\n 'G0022370090020',\n 'G0035370010010',\n 'G0035370010020',\n 'G0035370010030',\n 'G0035370010040',\n 'G0035370010080',\n 'G0308370010010',\n 'G0309370010010',\n 'G2516370030010',\n 'G2516370030020',\n 'S0007370010010',\n 'S0007370010020',\n 'S0026370010010',\n 'S0026370010020',\n 'S0088370010010',\n 'S0101370010010',\n 'S0101370010020',\n 'S0101370010030',\n 'S0105370010010',\n 'S8105370010010',\n 'S8105370010020']"
     },
     "execution_count": 47,
     "metadata": {},
     "output_type": "execute_result"
    }
   ],
   "source": [
    "#将id转换为list\n",
    "ids = df_ids.id.tolist()\n",
    "ids\n"
   ],
   "metadata": {
    "collapsed": false
   }
  },
  {
   "cell_type": "code",
   "execution_count": 48,
   "outputs": [
    {
     "data": {
      "text/plain": "Empty DataFrame\nColumns: [0, 1, 2, 3, 4, 5, 6, 7, 8, 9, 10, 11, 12, 13, 14, 15, 16]\nIndex: []",
      "text/html": "<div>\n<style scoped>\n    .dataframe tbody tr th:only-of-type {\n        vertical-align: middle;\n    }\n\n    .dataframe tbody tr th {\n        vertical-align: top;\n    }\n\n    .dataframe thead th {\n        text-align: right;\n    }\n</style>\n<table border=\"1\" class=\"dataframe\">\n  <thead>\n    <tr style=\"text-align: right;\">\n      <th></th>\n      <th>0</th>\n      <th>1</th>\n      <th>2</th>\n      <th>3</th>\n      <th>4</th>\n      <th>5</th>\n      <th>6</th>\n      <th>7</th>\n      <th>8</th>\n      <th>9</th>\n      <th>10</th>\n      <th>11</th>\n      <th>12</th>\n      <th>13</th>\n      <th>14</th>\n      <th>15</th>\n      <th>16</th>\n    </tr>\n  </thead>\n  <tbody>\n  </tbody>\n</table>\n</div>"
     },
     "execution_count": 48,
     "metadata": {},
     "output_type": "execute_result"
    }
   ],
   "source": [
    "#如果id在df中，则保留对应的df\n"
   ],
   "metadata": {
    "collapsed": false
   }
  },
  {
   "cell_type": "code",
   "execution_count": null,
   "outputs": [],
   "source": [],
   "metadata": {
    "collapsed": false
   }
  }
 ],
 "metadata": {
  "kernelspec": {
   "display_name": "Python 3",
   "language": "python",
   "name": "python3"
  },
  "language_info": {
   "codemirror_mode": {
    "name": "ipython",
    "version": 2
   },
   "file_extension": ".py",
   "mimetype": "text/x-python",
   "name": "python",
   "nbconvert_exporter": "python",
   "pygments_lexer": "ipython2",
   "version": "2.7.6"
  }
 },
 "nbformat": 4,
 "nbformat_minor": 0
}
