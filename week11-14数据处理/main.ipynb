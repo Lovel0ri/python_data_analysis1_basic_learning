{
 "cells": [
  {
   "cell_type": "code",
   "execution_count": 55,
   "metadata": {
    "collapsed": true
   },
   "outputs": [],
   "source": [
    "import pandas as pd\n",
    "import os\n",
    "dirlist = ['data1','data2']\n",
    "dfs = [pd.read_csv(os.path.join(folder, file), delimiter='\\t',header=None)\n",
    "       for folder in dirlist\n",
    "       for file in os.listdir(folder) if file.endswith('.txt')]\n",
    "combined_df = pd.concat(dfs, ignore_index=True)"
   ]
  },
  {
   "cell_type": "code",
   "execution_count": 54,
   "outputs": [
    {
     "data": {
      "text/plain": "Empty DataFrame\nColumns: []\nIndex: []",
      "text/html": "<div>\n<style scoped>\n    .dataframe tbody tr th:only-of-type {\n        vertical-align: middle;\n    }\n\n    .dataframe tbody tr th {\n        vertical-align: top;\n    }\n\n    .dataframe thead th {\n        text-align: right;\n    }\n</style>\n<table border=\"1\" class=\"dataframe\">\n  <thead>\n    <tr style=\"text-align: right;\">\n      <th></th>\n    </tr>\n  </thead>\n  <tbody>\n  </tbody>\n</table>\n</div>"
     },
     "execution_count": 54,
     "metadata": {},
     "output_type": "execute_result"
    }
   ],
   "source": [
    "#以;分割\n",
    "combined_df = combined_df[0].str.split(';', expand=True)\n",
    "#去除none列\n",
    "combined_df = combined_df.dropna(axis=1, how='all')\n",
    "combined_df.head()"
   ],
   "metadata": {
    "collapsed": false
   }
  },
  {
   "cell_type": "code",
   "execution_count": 41,
   "outputs": [
    {
     "data": {
      "text/plain": "(1270822, 38)"
     },
     "execution_count": 41,
     "metadata": {},
     "output_type": "execute_result"
    }
   ],
   "source": [
    "#获取行数\n",
    "combined_df.shape"
   ],
   "metadata": {
    "collapsed": false
   }
  },
  {
   "cell_type": "markdown",
   "source": [
    "# 原数据"
   ],
   "metadata": {
    "collapsed": false
   }
  },
  {
   "cell_type": "code",
   "execution_count": 57,
   "outputs": [
    {
     "data": {
      "text/plain": "0          G002537004002020100702022122217090413         ...\n1          G002537004002020100702022122217113222         ...\n2          G002537004002020100702022122217132428         ...\n3          G002537004002020100702022122217134931         ...\n4          G002537004002020100702022122217181349         ...\n                                 ...                        \n1270817    G002537001004020400602022122215395477         ...\n1270818    G002537001004020400602022122215541281         ...\n1270819    G002537001004020400602022122215571288         ...\n1270820    G002537001004020400602022122215573090         ...\n1270821    G002537001004020400602022122216522310         ...\nName: 0, Length: 1270822, dtype: object"
     },
     "execution_count": 57,
     "metadata": {},
     "output_type": "execute_result"
    }
   ],
   "source": [
    "#获取第一列并去除空格\n",
    "ids = combined_df[0].str.strip()\n",
    "ids"
   ],
   "metadata": {
    "collapsed": false
   }
  },
  {
   "cell_type": "markdown",
   "source": [
    "# 读取dim数据作为依据的id"
   ],
   "metadata": {
    "collapsed": false
   }
  },
  {
   "cell_type": "code",
   "execution_count": 58,
   "outputs": [
    {
     "data": {
      "text/plain": "                    id           name  stakeNum    pidSection  \\\n0  G000237001000120010  乐陵北虚-京沪鲁冀收费门架  K261+700  22_G00023701   \n1  G000237001000120020  乐陵北虚-京沪鲁冀收费门架  K263+700  22_G00023701   \n2  G000237001000220030  乐陵西虚-乐陵北虚收费门架  K275+250  22_G00023701   \n3  G000237001000320040  济乐滨德-乐陵西虚收费门架  K278+900  22_G00023701   \n4  G000237001000420050  乐陵南虚-济乐滨德收费门架  K295+950  22_G00023701   \n\n      tollIntervals      pidTollinterval pidTollstation pidTollroad  \\\n0  G000237001000120  17_G000237001000120            NaN  15_G000237   \n1  G000237001000120  17_G000237001000120            NaN  15_G000237   \n2  G000237001000220  17_G000237001000220            NaN  15_G000237   \n3  G000237001000320  17_G000237001000320            NaN  15_G000237   \n4  G000237001000420  17_G000237001000420            NaN  15_G000237   \n\n  pTollRoadName  pidOwner  ... rsuManuId                        rsuIp  \\\n0        G2京沪高速  21_GO401  ...      0x12                 10.80.248.37   \n1        G2京沪高速  21_GO401  ...      0x12                10.80.248.101   \n2        G2京沪高速  21_GO401  ...      0x12    10.80.249.37|10.80.249.38   \n3        G2京沪高速  21_GO401  ...      0x12  10.80.249.101|10.80.249.102   \n4        G2京沪高速  21_GO401  ...      0x12    10.80.250.37|10.80.250.38   \n\n  vplrManuId vplrIp useStatus  orgTypeGroup         update_time  isstation  \\\n0       0X01    NaN         2          10.0 2022-06-08 16:02:58          0   \n1       0X01    NaN         2          10.0 2022-06-08 16:02:58          0   \n2       0X01    NaN         2          10.0 2022-06-08 16:02:58          0   \n3       0X01    NaN         2          10.0 2022-06-08 16:02:58          0   \n4       0X01    NaN         2          10.0 2022-06-08 16:02:58          0   \n\n     lat_new     lng_new  \n0  37.836468  117.105107  \n1  37.823219  117.102845  \n2  37.712522  117.106439  \n3  37.685482  117.101382  \n4  37.536900  117.120273  \n\n[5 rows x 49 columns]",
      "text/html": "<div>\n<style scoped>\n    .dataframe tbody tr th:only-of-type {\n        vertical-align: middle;\n    }\n\n    .dataframe tbody tr th {\n        vertical-align: top;\n    }\n\n    .dataframe thead th {\n        text-align: right;\n    }\n</style>\n<table border=\"1\" class=\"dataframe\">\n  <thead>\n    <tr style=\"text-align: right;\">\n      <th></th>\n      <th>id</th>\n      <th>name</th>\n      <th>stakeNum</th>\n      <th>pidSection</th>\n      <th>tollIntervals</th>\n      <th>pidTollinterval</th>\n      <th>pidTollstation</th>\n      <th>pidTollroad</th>\n      <th>pTollRoadName</th>\n      <th>pidOwner</th>\n      <th>...</th>\n      <th>rsuManuId</th>\n      <th>rsuIp</th>\n      <th>vplrManuId</th>\n      <th>vplrIp</th>\n      <th>useStatus</th>\n      <th>orgTypeGroup</th>\n      <th>update_time</th>\n      <th>isstation</th>\n      <th>lat_new</th>\n      <th>lng_new</th>\n    </tr>\n  </thead>\n  <tbody>\n    <tr>\n      <th>0</th>\n      <td>G000237001000120010</td>\n      <td>乐陵北虚-京沪鲁冀收费门架</td>\n      <td>K261+700</td>\n      <td>22_G00023701</td>\n      <td>G000237001000120</td>\n      <td>17_G000237001000120</td>\n      <td>NaN</td>\n      <td>15_G000237</td>\n      <td>G2京沪高速</td>\n      <td>21_GO401</td>\n      <td>...</td>\n      <td>0x12</td>\n      <td>10.80.248.37</td>\n      <td>0X01</td>\n      <td>NaN</td>\n      <td>2</td>\n      <td>10.0</td>\n      <td>2022-06-08 16:02:58</td>\n      <td>0</td>\n      <td>37.836468</td>\n      <td>117.105107</td>\n    </tr>\n    <tr>\n      <th>1</th>\n      <td>G000237001000120020</td>\n      <td>乐陵北虚-京沪鲁冀收费门架</td>\n      <td>K263+700</td>\n      <td>22_G00023701</td>\n      <td>G000237001000120</td>\n      <td>17_G000237001000120</td>\n      <td>NaN</td>\n      <td>15_G000237</td>\n      <td>G2京沪高速</td>\n      <td>21_GO401</td>\n      <td>...</td>\n      <td>0x12</td>\n      <td>10.80.248.101</td>\n      <td>0X01</td>\n      <td>NaN</td>\n      <td>2</td>\n      <td>10.0</td>\n      <td>2022-06-08 16:02:58</td>\n      <td>0</td>\n      <td>37.823219</td>\n      <td>117.102845</td>\n    </tr>\n    <tr>\n      <th>2</th>\n      <td>G000237001000220030</td>\n      <td>乐陵西虚-乐陵北虚收费门架</td>\n      <td>K275+250</td>\n      <td>22_G00023701</td>\n      <td>G000237001000220</td>\n      <td>17_G000237001000220</td>\n      <td>NaN</td>\n      <td>15_G000237</td>\n      <td>G2京沪高速</td>\n      <td>21_GO401</td>\n      <td>...</td>\n      <td>0x12</td>\n      <td>10.80.249.37|10.80.249.38</td>\n      <td>0X01</td>\n      <td>NaN</td>\n      <td>2</td>\n      <td>10.0</td>\n      <td>2022-06-08 16:02:58</td>\n      <td>0</td>\n      <td>37.712522</td>\n      <td>117.106439</td>\n    </tr>\n    <tr>\n      <th>3</th>\n      <td>G000237001000320040</td>\n      <td>济乐滨德-乐陵西虚收费门架</td>\n      <td>K278+900</td>\n      <td>22_G00023701</td>\n      <td>G000237001000320</td>\n      <td>17_G000237001000320</td>\n      <td>NaN</td>\n      <td>15_G000237</td>\n      <td>G2京沪高速</td>\n      <td>21_GO401</td>\n      <td>...</td>\n      <td>0x12</td>\n      <td>10.80.249.101|10.80.249.102</td>\n      <td>0X01</td>\n      <td>NaN</td>\n      <td>2</td>\n      <td>10.0</td>\n      <td>2022-06-08 16:02:58</td>\n      <td>0</td>\n      <td>37.685482</td>\n      <td>117.101382</td>\n    </tr>\n    <tr>\n      <th>4</th>\n      <td>G000237001000420050</td>\n      <td>乐陵南虚-济乐滨德收费门架</td>\n      <td>K295+950</td>\n      <td>22_G00023701</td>\n      <td>G000237001000420</td>\n      <td>17_G000237001000420</td>\n      <td>NaN</td>\n      <td>15_G000237</td>\n      <td>G2京沪高速</td>\n      <td>21_GO401</td>\n      <td>...</td>\n      <td>0x12</td>\n      <td>10.80.250.37|10.80.250.38</td>\n      <td>0X01</td>\n      <td>NaN</td>\n      <td>2</td>\n      <td>10.0</td>\n      <td>2022-06-08 16:02:58</td>\n      <td>0</td>\n      <td>37.536900</td>\n      <td>117.120273</td>\n    </tr>\n  </tbody>\n</table>\n<p>5 rows × 49 columns</p>\n</div>"
     },
     "execution_count": 58,
     "metadata": {},
     "output_type": "execute_result"
    }
   ],
   "source": [
    "dim = pd.read_excel('./dim_org_toll_gantry.xlsx')\n",
    "dim.head()"
   ],
   "metadata": {
    "collapsed": false
   }
  },
  {
   "cell_type": "code",
   "execution_count": 59,
   "outputs": [
    {
     "data": {
      "text/plain": "                      id           name stakeNum    pidSection  \\\n166  G000237009000410040   郭店虚-济南东虚收费门架  K16+650  22_G20013701   \n167  G000237009000520050   济南东虚-郭店虚收费门架  K16+700  22_G20013701   \n171  G000237009000910010   济南东-济南东虚收费门架  K19+312  22_G20013701   \n172  G000237009000920010   济南东虚-济南东收费门架  K19+312  22_G20013701   \n177  G000237010000110010  济南东虚-港沟枢纽收费门架  K20+000  22_G20013701   \n\n        tollIntervals      pidTollinterval    pidTollstation pidTollroad  \\\n166  G000237009000410  17_G000237009000410  5_G0002370090020  15_G200137   \n167  G000237009000520  17_G000237009000520  5_G0002370090020  15_G200137   \n171  G000237009000910  17_G000237009000910  5_G0002370090010  15_G200137   \n172  G000237009000920  17_G000237009000920  5_G0002370090010  15_G200137   \n177  G000237010000110  17_G000237010000110  5_G0002370090010  15_G200137   \n\n    pTollRoadName  pidOwner  ... rsuManuId                    rsuIp  \\\n166   G2001济南绕城高速  21_GO201  ...      0x08  10.82.0.206|10.82.0.207   \n167   G2001济南绕城高速  21_GO201  ...      0x08  10.82.0.229|10.82.0.230   \n171   G2001济南绕城高速  21_GO201  ...      0x08                       00   \n172   G2001济南绕城高速  21_GO201  ...      0x08                       00   \n177   G2001济南绕城高速  21_GO201  ...      0x08    10.82.1.14|10.82.1.15   \n\n    vplrManuId vplrIp useStatus  orgTypeGroup         update_time  isstation  \\\n166       0X02    NaN         2          10.0 2022-06-08 16:02:58          0   \n167       0X02    NaN         2          10.0 2022-06-08 16:02:58          0   \n171       0X08    NaN         2          10.0 2022-06-08 16:02:58          1   \n172       0X08    NaN         2          10.0 2022-06-08 16:02:58          1   \n177       0X08    NaN         2          10.0 2022-06-08 16:02:58          0   \n\n       lat_new     lng_new  \n166  36.702492  117.209890  \n167  36.702005  117.210057  \n171  36.676330  117.212432  \n172  36.676320  117.212570  \n177  36.669985  117.211258  \n\n[5 rows x 49 columns]",
      "text/html": "<div>\n<style scoped>\n    .dataframe tbody tr th:only-of-type {\n        vertical-align: middle;\n    }\n\n    .dataframe tbody tr th {\n        vertical-align: top;\n    }\n\n    .dataframe thead th {\n        text-align: right;\n    }\n</style>\n<table border=\"1\" class=\"dataframe\">\n  <thead>\n    <tr style=\"text-align: right;\">\n      <th></th>\n      <th>id</th>\n      <th>name</th>\n      <th>stakeNum</th>\n      <th>pidSection</th>\n      <th>tollIntervals</th>\n      <th>pidTollinterval</th>\n      <th>pidTollstation</th>\n      <th>pidTollroad</th>\n      <th>pTollRoadName</th>\n      <th>pidOwner</th>\n      <th>...</th>\n      <th>rsuManuId</th>\n      <th>rsuIp</th>\n      <th>vplrManuId</th>\n      <th>vplrIp</th>\n      <th>useStatus</th>\n      <th>orgTypeGroup</th>\n      <th>update_time</th>\n      <th>isstation</th>\n      <th>lat_new</th>\n      <th>lng_new</th>\n    </tr>\n  </thead>\n  <tbody>\n    <tr>\n      <th>166</th>\n      <td>G000237009000410040</td>\n      <td>郭店虚-济南东虚收费门架</td>\n      <td>K16+650</td>\n      <td>22_G20013701</td>\n      <td>G000237009000410</td>\n      <td>17_G000237009000410</td>\n      <td>5_G0002370090020</td>\n      <td>15_G200137</td>\n      <td>G2001济南绕城高速</td>\n      <td>21_GO201</td>\n      <td>...</td>\n      <td>0x08</td>\n      <td>10.82.0.206|10.82.0.207</td>\n      <td>0X02</td>\n      <td>NaN</td>\n      <td>2</td>\n      <td>10.0</td>\n      <td>2022-06-08 16:02:58</td>\n      <td>0</td>\n      <td>36.702492</td>\n      <td>117.209890</td>\n    </tr>\n    <tr>\n      <th>167</th>\n      <td>G000237009000520050</td>\n      <td>济南东虚-郭店虚收费门架</td>\n      <td>K16+700</td>\n      <td>22_G20013701</td>\n      <td>G000237009000520</td>\n      <td>17_G000237009000520</td>\n      <td>5_G0002370090020</td>\n      <td>15_G200137</td>\n      <td>G2001济南绕城高速</td>\n      <td>21_GO201</td>\n      <td>...</td>\n      <td>0x08</td>\n      <td>10.82.0.229|10.82.0.230</td>\n      <td>0X02</td>\n      <td>NaN</td>\n      <td>2</td>\n      <td>10.0</td>\n      <td>2022-06-08 16:02:58</td>\n      <td>0</td>\n      <td>36.702005</td>\n      <td>117.210057</td>\n    </tr>\n    <tr>\n      <th>171</th>\n      <td>G000237009000910010</td>\n      <td>济南东-济南东虚收费门架</td>\n      <td>K19+312</td>\n      <td>22_G20013701</td>\n      <td>G000237009000910</td>\n      <td>17_G000237009000910</td>\n      <td>5_G0002370090010</td>\n      <td>15_G200137</td>\n      <td>G2001济南绕城高速</td>\n      <td>21_GO201</td>\n      <td>...</td>\n      <td>0x08</td>\n      <td>00</td>\n      <td>0X08</td>\n      <td>NaN</td>\n      <td>2</td>\n      <td>10.0</td>\n      <td>2022-06-08 16:02:58</td>\n      <td>1</td>\n      <td>36.676330</td>\n      <td>117.212432</td>\n    </tr>\n    <tr>\n      <th>172</th>\n      <td>G000237009000920010</td>\n      <td>济南东虚-济南东收费门架</td>\n      <td>K19+312</td>\n      <td>22_G20013701</td>\n      <td>G000237009000920</td>\n      <td>17_G000237009000920</td>\n      <td>5_G0002370090010</td>\n      <td>15_G200137</td>\n      <td>G2001济南绕城高速</td>\n      <td>21_GO201</td>\n      <td>...</td>\n      <td>0x08</td>\n      <td>00</td>\n      <td>0X08</td>\n      <td>NaN</td>\n      <td>2</td>\n      <td>10.0</td>\n      <td>2022-06-08 16:02:58</td>\n      <td>1</td>\n      <td>36.676320</td>\n      <td>117.212570</td>\n    </tr>\n    <tr>\n      <th>177</th>\n      <td>G000237010000110010</td>\n      <td>济南东虚-港沟枢纽收费门架</td>\n      <td>K20+000</td>\n      <td>22_G20013701</td>\n      <td>G000237010000110</td>\n      <td>17_G000237010000110</td>\n      <td>5_G0002370090010</td>\n      <td>15_G200137</td>\n      <td>G2001济南绕城高速</td>\n      <td>21_GO201</td>\n      <td>...</td>\n      <td>0x08</td>\n      <td>10.82.1.14|10.82.1.15</td>\n      <td>0X08</td>\n      <td>NaN</td>\n      <td>2</td>\n      <td>10.0</td>\n      <td>2022-06-08 16:02:58</td>\n      <td>0</td>\n      <td>36.669985</td>\n      <td>117.211258</td>\n    </tr>\n  </tbody>\n</table>\n<p>5 rows × 49 columns</p>\n</div>"
     },
     "execution_count": 59,
     "metadata": {},
     "output_type": "execute_result"
    }
   ],
   "source": [
    "#筛选出name列中含有济南的数据\n",
    "dim = dim[dim['name'].str.contains('济南')]\n",
    "dim.head()"
   ],
   "metadata": {
    "collapsed": false
   }
  },
  {
   "cell_type": "code",
   "execution_count": 60,
   "outputs": [
    {
     "data": {
      "text/plain": "32"
     },
     "execution_count": 60,
     "metadata": {},
     "output_type": "execute_result"
    }
   ],
   "source": [
    "#获取id列\n",
    "dim_ids = dim['id']\n",
    "len(dim_ids)"
   ],
   "metadata": {
    "collapsed": false
   }
  },
  {
   "cell_type": "markdown",
   "source": [
    "# 读取id.xls数据中的id列"
   ],
   "metadata": {
    "collapsed": false
   }
  },
  {
   "cell_type": "code",
   "execution_count": 61,
   "outputs": [
    {
     "name": "stdout",
     "output_type": "stream",
     "text": [
      "60\n"
     ]
    },
    {
     "data": {
      "text/plain": "               id  stationId  lys_id NAME  stakeNum fullName pidTollroad  \\\n0  G0002370040010      40901    65.0   港沟  K400+000    山东港沟站  15_G000237   \n1  G0002370040020      40902    66.0   蟠龙  K404+547    山东蟠龙站  15_G000237   \n2  G0002370040030      40903    67.0   彩石  K415+000    山东彩石站  15_G000237   \n3  G0002370040040      40904     NaN   曹范       NaN    山东曹范站  15_G000237   \n4  G0002370040050      40905    69.0   埠村  K428+000    山东埠村站  15_G000237   \n\n     pidSection pSectionName  pidOwner  ...        lat         lng regionName  \\\n0  22_G00023703          济莱路  21_GO102  ...  36.629742  117.176130         济南   \n1  22_G00023703          济莱路  21_GO102  ...  36.628114  117.223679         济南   \n2  22_G00023703          济莱路  21_GO102  ...  36.615665  117.329523         济南   \n3           NaN          NaN       NaN  ...  36.611207  117.399573        济南市   \n4  22_G00023703          济莱路  21_GO102  ...  36.601365  117.477160         济南   \n\n  countryName  regionlismCode  useStatus orgTypeGroup         update_time  \\\n0         历城区          370112          1            5 2022-06-09 11:22:30   \n1         历城区          370112          1            5 2022-06-09 11:22:30   \n2         历城区          370112          1            5 2022-06-09 11:22:30   \n3         章丘区          370114          3            5 2022-06-06 16:28:14   \n4         章丘区          370114          1            5 2022-06-13 14:00:31   \n\n      gd_lat      gd_lng  \n0  36.629877  117.176286  \n1  36.628116  117.223680  \n2  36.613561  117.331852  \n3  36.631502  117.412580  \n4  36.596841  117.477718  \n\n[5 rows x 27 columns]",
      "text/html": "<div>\n<style scoped>\n    .dataframe tbody tr th:only-of-type {\n        vertical-align: middle;\n    }\n\n    .dataframe tbody tr th {\n        vertical-align: top;\n    }\n\n    .dataframe thead th {\n        text-align: right;\n    }\n</style>\n<table border=\"1\" class=\"dataframe\">\n  <thead>\n    <tr style=\"text-align: right;\">\n      <th></th>\n      <th>id</th>\n      <th>stationId</th>\n      <th>lys_id</th>\n      <th>NAME</th>\n      <th>stakeNum</th>\n      <th>fullName</th>\n      <th>pidTollroad</th>\n      <th>pidSection</th>\n      <th>pSectionName</th>\n      <th>pidOwner</th>\n      <th>...</th>\n      <th>lat</th>\n      <th>lng</th>\n      <th>regionName</th>\n      <th>countryName</th>\n      <th>regionlismCode</th>\n      <th>useStatus</th>\n      <th>orgTypeGroup</th>\n      <th>update_time</th>\n      <th>gd_lat</th>\n      <th>gd_lng</th>\n    </tr>\n  </thead>\n  <tbody>\n    <tr>\n      <th>0</th>\n      <td>G0002370040010</td>\n      <td>40901</td>\n      <td>65.0</td>\n      <td>港沟</td>\n      <td>K400+000</td>\n      <td>山东港沟站</td>\n      <td>15_G000237</td>\n      <td>22_G00023703</td>\n      <td>济莱路</td>\n      <td>21_GO102</td>\n      <td>...</td>\n      <td>36.629742</td>\n      <td>117.176130</td>\n      <td>济南</td>\n      <td>历城区</td>\n      <td>370112</td>\n      <td>1</td>\n      <td>5</td>\n      <td>2022-06-09 11:22:30</td>\n      <td>36.629877</td>\n      <td>117.176286</td>\n    </tr>\n    <tr>\n      <th>1</th>\n      <td>G0002370040020</td>\n      <td>40902</td>\n      <td>66.0</td>\n      <td>蟠龙</td>\n      <td>K404+547</td>\n      <td>山东蟠龙站</td>\n      <td>15_G000237</td>\n      <td>22_G00023703</td>\n      <td>济莱路</td>\n      <td>21_GO102</td>\n      <td>...</td>\n      <td>36.628114</td>\n      <td>117.223679</td>\n      <td>济南</td>\n      <td>历城区</td>\n      <td>370112</td>\n      <td>1</td>\n      <td>5</td>\n      <td>2022-06-09 11:22:30</td>\n      <td>36.628116</td>\n      <td>117.223680</td>\n    </tr>\n    <tr>\n      <th>2</th>\n      <td>G0002370040030</td>\n      <td>40903</td>\n      <td>67.0</td>\n      <td>彩石</td>\n      <td>K415+000</td>\n      <td>山东彩石站</td>\n      <td>15_G000237</td>\n      <td>22_G00023703</td>\n      <td>济莱路</td>\n      <td>21_GO102</td>\n      <td>...</td>\n      <td>36.615665</td>\n      <td>117.329523</td>\n      <td>济南</td>\n      <td>历城区</td>\n      <td>370112</td>\n      <td>1</td>\n      <td>5</td>\n      <td>2022-06-09 11:22:30</td>\n      <td>36.613561</td>\n      <td>117.331852</td>\n    </tr>\n    <tr>\n      <th>3</th>\n      <td>G0002370040040</td>\n      <td>40904</td>\n      <td>NaN</td>\n      <td>曹范</td>\n      <td>NaN</td>\n      <td>山东曹范站</td>\n      <td>15_G000237</td>\n      <td>NaN</td>\n      <td>NaN</td>\n      <td>NaN</td>\n      <td>...</td>\n      <td>36.611207</td>\n      <td>117.399573</td>\n      <td>济南市</td>\n      <td>章丘区</td>\n      <td>370114</td>\n      <td>3</td>\n      <td>5</td>\n      <td>2022-06-06 16:28:14</td>\n      <td>36.631502</td>\n      <td>117.412580</td>\n    </tr>\n    <tr>\n      <th>4</th>\n      <td>G0002370040050</td>\n      <td>40905</td>\n      <td>69.0</td>\n      <td>埠村</td>\n      <td>K428+000</td>\n      <td>山东埠村站</td>\n      <td>15_G000237</td>\n      <td>22_G00023703</td>\n      <td>济莱路</td>\n      <td>21_GO102</td>\n      <td>...</td>\n      <td>36.601365</td>\n      <td>117.477160</td>\n      <td>济南</td>\n      <td>章丘区</td>\n      <td>370114</td>\n      <td>1</td>\n      <td>5</td>\n      <td>2022-06-13 14:00:31</td>\n      <td>36.596841</td>\n      <td>117.477718</td>\n    </tr>\n  </tbody>\n</table>\n<p>5 rows × 27 columns</p>\n</div>"
     },
     "execution_count": 61,
     "metadata": {},
     "output_type": "execute_result"
    }
   ],
   "source": [
    "df_id = pd.read_excel('./id.xls')\n",
    "print(len(df_id.id))\n",
    "df_id.head()"
   ],
   "metadata": {
    "collapsed": false
   }
  },
  {
   "cell_type": "code",
   "execution_count": 50,
   "outputs": [
    {
     "data": {
      "text/plain": "array(['G000237009000410040', 'G000237009000520050',\n       'G000237009000910010', 'G000237009000920010',\n       'G000237010000110010', 'G000237010000310030',\n       'G000237010000410040', 'G000237010000920090',\n       'G000237010001020100', 'G000237010001220120',\n       'G000237010001310010', 'G000237010001320010',\n       'G000337004000110010', 'G000337004000210020',\n       'G000337004000510070', 'G000337004000610080',\n       'G000337004001320170', 'G000337004001420180',\n       'G000337004001720210', 'G000337004001820220',\n       'G000337004002110010', 'G000337004002220010',\n       'G000337004002810010', 'G000337004002820010',\n       'G000337004002910010', 'G000337004002920010',\n       'G002037006000810080', 'G002037006000810090',\n       'G002037006000920100', 'G002037006000920110',\n       'S008837001000110010', 'S008837001000220020', 'G0002370040010',\n       'G0002370040020', 'G0002370040030', 'G0002370040040',\n       'G0002370040050', 'G0002370040060', 'G0002370040070',\n       'G0002370040080', 'G0002370080010', 'G0002370080020',\n       'G0002370080030', 'G0002370090010', 'G0002370090020',\n       'G0002370090030', 'G0002370100010', 'G0002370100020',\n       'G0002370110010', 'G0002370110020', 'G0002370110040',\n       'G0002370120010', 'G0002370120020', 'G0002370120050',\n       'G0002370140010', 'G0002370140020', 'G0003370040010',\n       'G0003370040020', 'G0003370040030', 'G0003370040040',\n       'G0003370040050', 'G0003370040060', 'G0020370060010',\n       'G0020370060030', 'G0020370060040', 'G0020370060050',\n       'G0020370060060', 'G0022370040010', 'G0022370070050',\n       'G0022370070060', 'G0022370090010', 'G0022370090020',\n       'G0035370010010', 'G0035370010020', 'G0035370010030',\n       'G0035370010040', 'G0035370010080', 'G0308370010010',\n       'G0309370010010', 'G2516370030010', 'G2516370030020',\n       'S0007370010010', 'S0007370010020', 'S0026370010010',\n       'S0026370010020', 'S0088370010010', 'S0101370010010',\n       'S0101370010020', 'S0101370010030', 'S0105370010010',\n       'S8105370010010', 'S8105370010020'], dtype=object)"
     },
     "execution_count": 50,
     "metadata": {},
     "output_type": "execute_result"
    }
   ],
   "source": [
    "#合并两个id列为同一列\n",
    "ids = pd.concat([dim_ids, df_id['id']], ignore_index=True).unique()\n",
    "ids"
   ],
   "metadata": {
    "collapsed": false
   }
  },
  {
   "cell_type": "code",
   "execution_count": 62,
   "outputs": [
    {
     "ename": "KeyboardInterrupt",
     "evalue": "",
     "output_type": "error",
     "traceback": [
      "\u001B[0;31m---------------------------------------------------------------------------\u001B[0m",
      "\u001B[0;31mKeyboardInterrupt\u001B[0m                         Traceback (most recent call last)",
      "Cell \u001B[0;32mIn [62], line 3\u001B[0m\n\u001B[1;32m      1\u001B[0m \u001B[38;5;66;03m#如果ids中的id在combined_df中存在，则保留combined_df中对应的行\u001B[39;00m\n\u001B[1;32m      2\u001B[0m \u001B[38;5;28;01mfor\u001B[39;00m \u001B[38;5;28mid\u001B[39m \u001B[38;5;129;01min\u001B[39;00m ids:\n\u001B[0;32m----> 3\u001B[0m     combined_df \u001B[38;5;241m=\u001B[39m combined_df[\u001B[43mcombined_df\u001B[49m\u001B[43m[\u001B[49m\u001B[38;5;241;43m0\u001B[39;49m\u001B[43m]\u001B[49m\u001B[38;5;241;43m.\u001B[39;49m\u001B[43mstr\u001B[49m\u001B[38;5;241;43m.\u001B[39;49m\u001B[43mcontains\u001B[49m\u001B[43m(\u001B[49m\u001B[38;5;28;43mid\u001B[39;49m\u001B[43m)\u001B[49m]\n\u001B[1;32m      4\u001B[0m combined_df\u001B[38;5;241m.\u001B[39mhead()\n",
      "File \u001B[0;32m~/Desktop/网络与新媒体/projects/data_analysis/venv/lib/python3.10/site-packages/pandas/core/strings/accessor.py:130\u001B[0m, in \u001B[0;36mforbid_nonstring_types.<locals>._forbid_nonstring_types.<locals>.wrapper\u001B[0;34m(self, *args, **kwargs)\u001B[0m\n\u001B[1;32m    125\u001B[0m     msg \u001B[38;5;241m=\u001B[39m (\n\u001B[1;32m    126\u001B[0m         \u001B[38;5;124mf\u001B[39m\u001B[38;5;124m\"\u001B[39m\u001B[38;5;124mCannot use .str.\u001B[39m\u001B[38;5;132;01m{\u001B[39;00mfunc_name\u001B[38;5;132;01m}\u001B[39;00m\u001B[38;5;124m with values of \u001B[39m\u001B[38;5;124m\"\u001B[39m\n\u001B[1;32m    127\u001B[0m         \u001B[38;5;124mf\u001B[39m\u001B[38;5;124m\"\u001B[39m\u001B[38;5;124minferred dtype \u001B[39m\u001B[38;5;124m'\u001B[39m\u001B[38;5;132;01m{\u001B[39;00m\u001B[38;5;28mself\u001B[39m\u001B[38;5;241m.\u001B[39m_inferred_dtype\u001B[38;5;132;01m}\u001B[39;00m\u001B[38;5;124m'\u001B[39m\u001B[38;5;124m.\u001B[39m\u001B[38;5;124m\"\u001B[39m\n\u001B[1;32m    128\u001B[0m     )\n\u001B[1;32m    129\u001B[0m     \u001B[38;5;28;01mraise\u001B[39;00m \u001B[38;5;167;01mTypeError\u001B[39;00m(msg)\n\u001B[0;32m--> 130\u001B[0m \u001B[38;5;28;01mreturn\u001B[39;00m \u001B[43mfunc\u001B[49m\u001B[43m(\u001B[49m\u001B[38;5;28;43mself\u001B[39;49m\u001B[43m,\u001B[49m\u001B[43m \u001B[49m\u001B[38;5;241;43m*\u001B[39;49m\u001B[43margs\u001B[49m\u001B[43m,\u001B[49m\u001B[43m \u001B[49m\u001B[38;5;241;43m*\u001B[39;49m\u001B[38;5;241;43m*\u001B[39;49m\u001B[43mkwargs\u001B[49m\u001B[43m)\u001B[49m\n",
      "File \u001B[0;32m~/Desktop/网络与新媒体/projects/data_analysis/venv/lib/python3.10/site-packages/pandas/core/strings/accessor.py:1253\u001B[0m, in \u001B[0;36mStringMethods.contains\u001B[0;34m(self, pat, case, flags, na, regex)\u001B[0m\n\u001B[1;32m   1128\u001B[0m \u001B[38;5;129m@forbid_nonstring_types\u001B[39m([\u001B[38;5;124m\"\u001B[39m\u001B[38;5;124mbytes\u001B[39m\u001B[38;5;124m\"\u001B[39m])\n\u001B[1;32m   1129\u001B[0m \u001B[38;5;28;01mdef\u001B[39;00m \u001B[38;5;21mcontains\u001B[39m(\u001B[38;5;28mself\u001B[39m, pat, case\u001B[38;5;241m=\u001B[39m\u001B[38;5;28;01mTrue\u001B[39;00m, flags\u001B[38;5;241m=\u001B[39m\u001B[38;5;241m0\u001B[39m, na\u001B[38;5;241m=\u001B[39m\u001B[38;5;28;01mNone\u001B[39;00m, regex\u001B[38;5;241m=\u001B[39m\u001B[38;5;28;01mTrue\u001B[39;00m):\n\u001B[1;32m   1130\u001B[0m     \u001B[38;5;124mr\u001B[39m\u001B[38;5;124;03m\"\"\"\u001B[39;00m\n\u001B[1;32m   1131\u001B[0m \u001B[38;5;124;03m    Test if pattern or regex is contained within a string of a Series or Index.\u001B[39;00m\n\u001B[1;32m   1132\u001B[0m \n\u001B[0;32m   (...)\u001B[0m\n\u001B[1;32m   1251\u001B[0m \u001B[38;5;124;03m    dtype: bool\u001B[39;00m\n\u001B[1;32m   1252\u001B[0m \u001B[38;5;124;03m    \"\"\"\u001B[39;00m\n\u001B[0;32m-> 1253\u001B[0m     \u001B[38;5;28;01mif\u001B[39;00m regex \u001B[38;5;129;01mand\u001B[39;00m \u001B[43mre\u001B[49m\u001B[38;5;241;43m.\u001B[39;49m\u001B[43mcompile\u001B[49m\u001B[43m(\u001B[49m\u001B[43mpat\u001B[49m\u001B[43m)\u001B[49m\u001B[38;5;241m.\u001B[39mgroups:\n\u001B[1;32m   1254\u001B[0m         warnings\u001B[38;5;241m.\u001B[39mwarn(\n\u001B[1;32m   1255\u001B[0m             \u001B[38;5;124m\"\u001B[39m\u001B[38;5;124mThis pattern is interpreted as a regular expression, and has \u001B[39m\u001B[38;5;124m\"\u001B[39m\n\u001B[1;32m   1256\u001B[0m             \u001B[38;5;124m\"\u001B[39m\u001B[38;5;124mmatch groups. To actually get the groups, use str.extract.\u001B[39m\u001B[38;5;124m\"\u001B[39m,\n\u001B[1;32m   1257\u001B[0m             \u001B[38;5;167;01mUserWarning\u001B[39;00m,\n\u001B[1;32m   1258\u001B[0m             stacklevel\u001B[38;5;241m=\u001B[39mfind_stack_level(inspect\u001B[38;5;241m.\u001B[39mcurrentframe()),\n\u001B[1;32m   1259\u001B[0m         )\n\u001B[1;32m   1261\u001B[0m     result \u001B[38;5;241m=\u001B[39m \u001B[38;5;28mself\u001B[39m\u001B[38;5;241m.\u001B[39m_data\u001B[38;5;241m.\u001B[39marray\u001B[38;5;241m.\u001B[39m_str_contains(pat, case, flags, na, regex)\n",
      "File \u001B[0;32m/Library/Frameworks/Python.framework/Versions/3.10/lib/python3.10/re.py:251\u001B[0m, in \u001B[0;36mcompile\u001B[0;34m(pattern, flags)\u001B[0m\n\u001B[1;32m    249\u001B[0m \u001B[38;5;28;01mdef\u001B[39;00m \u001B[38;5;21mcompile\u001B[39m(pattern, flags\u001B[38;5;241m=\u001B[39m\u001B[38;5;241m0\u001B[39m):\n\u001B[1;32m    250\u001B[0m     \u001B[38;5;124m\"\u001B[39m\u001B[38;5;124mCompile a regular expression pattern, returning a Pattern object.\u001B[39m\u001B[38;5;124m\"\u001B[39m\n\u001B[0;32m--> 251\u001B[0m     \u001B[38;5;28;01mreturn\u001B[39;00m \u001B[43m_compile\u001B[49m\u001B[43m(\u001B[49m\u001B[43mpattern\u001B[49m\u001B[43m,\u001B[49m\u001B[43m \u001B[49m\u001B[43mflags\u001B[49m\u001B[43m)\u001B[49m\n",
      "File \u001B[0;32m/Library/Frameworks/Python.framework/Versions/3.10/lib/python3.10/re.py:303\u001B[0m, in \u001B[0;36m_compile\u001B[0;34m(pattern, flags)\u001B[0m\n\u001B[1;32m    301\u001B[0m \u001B[38;5;28;01mif\u001B[39;00m \u001B[38;5;129;01mnot\u001B[39;00m sre_compile\u001B[38;5;241m.\u001B[39misstring(pattern):\n\u001B[1;32m    302\u001B[0m     \u001B[38;5;28;01mraise\u001B[39;00m \u001B[38;5;167;01mTypeError\u001B[39;00m(\u001B[38;5;124m\"\u001B[39m\u001B[38;5;124mfirst argument must be string or compiled pattern\u001B[39m\u001B[38;5;124m\"\u001B[39m)\n\u001B[0;32m--> 303\u001B[0m p \u001B[38;5;241m=\u001B[39m \u001B[43msre_compile\u001B[49m\u001B[38;5;241;43m.\u001B[39;49m\u001B[43mcompile\u001B[49m\u001B[43m(\u001B[49m\u001B[43mpattern\u001B[49m\u001B[43m,\u001B[49m\u001B[43m \u001B[49m\u001B[43mflags\u001B[49m\u001B[43m)\u001B[49m\n\u001B[1;32m    304\u001B[0m \u001B[38;5;28;01mif\u001B[39;00m \u001B[38;5;129;01mnot\u001B[39;00m (flags \u001B[38;5;241m&\u001B[39m DEBUG):\n\u001B[1;32m    305\u001B[0m     \u001B[38;5;28;01mif\u001B[39;00m \u001B[38;5;28mlen\u001B[39m(_cache) \u001B[38;5;241m>\u001B[39m\u001B[38;5;241m=\u001B[39m _MAXCACHE:\n\u001B[1;32m    306\u001B[0m         \u001B[38;5;66;03m# Drop the oldest item\u001B[39;00m\n",
      "\u001B[0;31mKeyboardInterrupt\u001B[0m: "
     ]
    }
   ],
   "source": [
    "#如果ids中的id在combined_df中存在，则保留combined_df中对应的行\n",
    "for id in ids:\n",
    "    combined_df = combined_df[combined_df[0].str.contains(id)]\n",
    "combined_df.head()"
   ],
   "metadata": {
    "collapsed": false
   }
  },
  {
   "cell_type": "code",
   "execution_count": 38,
   "outputs": [
    {
     "data": {
      "text/plain": "True"
     },
     "execution_count": 38,
     "metadata": {},
     "output_type": "execute_result"
    }
   ],
   "source": [],
   "metadata": {
    "collapsed": false
   }
  },
  {
   "cell_type": "code",
   "execution_count": null,
   "outputs": [],
   "source": [],
   "metadata": {
    "collapsed": false
   }
  }
 ],
 "metadata": {
  "kernelspec": {
   "display_name": "Python 3",
   "language": "python",
   "name": "python3"
  },
  "language_info": {
   "codemirror_mode": {
    "name": "ipython",
    "version": 2
   },
   "file_extension": ".py",
   "mimetype": "text/x-python",
   "name": "python",
   "nbconvert_exporter": "python",
   "pygments_lexer": "ipython2",
   "version": "2.7.6"
  }
 },
 "nbformat": 4,
 "nbformat_minor": 0
}
