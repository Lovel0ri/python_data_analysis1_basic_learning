{
 "cells": [
  {
   "cell_type": "code",
   "execution_count": 6,
   "id": "6ded3144",
   "metadata": {},
   "outputs": [
    {
     "name": "stdout",
     "output_type": "stream",
     "text": [
      "0    88\n",
      "1    60\n",
      "2    75\n",
      "dtype: int64\n"
     ]
    }
   ],
   "source": [
    "import pandas as pd\n",
    "s1 = pd.Series([88,60,75])\n",
    "print(s1)"
   ]
  },
  {
   "cell_type": "code",
   "execution_count": 8,
   "id": "6aff9cb3",
   "metadata": {},
   "outputs": [
    {
     "name": "stdout",
     "output_type": "stream",
     "text": [
      "1    88\n",
      "2    60\n",
      "3    75\n",
      "dtype: int64\n",
      "明日同学    66\n",
      "高同学     60\n",
      "七月流火    75\n",
      "dtype: int64\n"
     ]
    }
   ],
   "source": [
    "import pandas as pd\n",
    "s1 = pd.Series([88,60,75],index = [1,2,3])\n",
    "s2 = pd.Series([66,60,75],index = ['明日同学','高同学','七月流火'])\n",
    "print(s1)\n",
    "print(s2)"
   ]
  },
  {
   "cell_type": "code",
   "execution_count": 3,
   "id": "e82ef651",
   "metadata": {},
   "outputs": [
    {
     "name": "stdout",
     "output_type": "stream",
     "text": [
      "88\n"
     ]
    }
   ],
   "source": [
    "#3.2.4\n",
    "import pandas as pd\n",
    "s1 = pd.Series([88,60,75])\n",
    "print(s1[0])"
   ]
  },
  {
   "cell_type": "code",
   "execution_count": 11,
   "id": "ab6c5afe",
   "metadata": {},
   "outputs": [
    {
     "name": "stdout",
     "output_type": "stream",
     "text": [
      "88\n",
      "明日同学    88\n",
      "七月流火    75\n",
      "dtype: int64\n"
     ]
    }
   ],
   "source": [
    "#3.2.4.2Series标签索引\n",
    "import pandas as pd\n",
    "s1 = pd.Series([88,60,75],index = ['明日同学','高同学','七月流火'])\n",
    "print(s1['明日同学'])#通过一个标签获取索引值\n",
    "print(s1[['明日同学','七月流火']])#通过多个标签索引获取索引值"
   ]
  },
  {
   "cell_type": "code",
   "execution_count": 12,
   "id": "0a35b974",
   "metadata": {},
   "outputs": [
    {
     "name": "stdout",
     "output_type": "stream",
     "text": [
      "明日同学    88\n",
      "高同学     60\n",
      "七月流火    75\n",
      "dtype: int64\n"
     ]
    }
   ],
   "source": [
    "#3.2.4.3Series切片索引\n",
    "#通过标签切片索引“明日同学”“七月流火”获取数据\n",
    "import pandas as pd\n",
    "s1 = pd.Series([88,60,75],index = ['明日同学','高同学','七月流火'])\n",
    "print(s1['明日同学':'七月流火'])"
   ]
  },
  {
   "cell_type": "code",
   "execution_count": 16,
   "id": "1c42aa91",
   "metadata": {},
   "outputs": [
    {
     "name": "stdout",
     "output_type": "stream",
     "text": [
      "1    60\n",
      "2    75\n",
      "3    68\n",
      "dtype: int64\n"
     ]
    }
   ],
   "source": [
    "#3.2.4.3\n",
    "import pandas as pd\n",
    "s2 = pd.Series([88,60,75,68])\n",
    "print(s2[1:4])"
   ]
  },
  {
   "cell_type": "code",
   "execution_count": 19,
   "id": "4e8296f4",
   "metadata": {},
   "outputs": [
    {
     "name": "stdout",
     "output_type": "stream",
     "text": [
      "RangeIndex(start=0, stop=3, step=1)\n",
      "[88 60 75]\n"
     ]
    }
   ],
   "source": [
    "import pandas as pd\n",
    "s1 = pd.Series([88,60,75])\n",
    "print(s1.index)\n",
    "print(s1.values)"
   ]
  },
  {
   "cell_type": "code",
   "execution_count": 23,
   "id": "fb700a51",
   "metadata": {},
   "outputs": [
    {
     "name": "stdout",
     "output_type": "stream",
     "text": [
      "   语文  数学  英语\n",
      "0   110   105    99\n",
      "1   105    88   115\n",
      "2   109   120   130\n",
      "0    110\n",
      "1    105\n",
      "2    109\n",
      "Name: 语文, dtype: int64\n",
      "0    105\n",
      "1     88\n",
      "2    120\n",
      "Name: 数学, dtype: int64\n",
      "0     99\n",
      "1    115\n",
      "2    130\n",
      "Name: 英语, dtype: int64\n"
     ]
    }
   ],
   "source": [
    "import pandas as pd\n",
    "#解决数据输出时列名不对齐的问题\n",
    "pd.set_option('display.unicode.east_asian_width',True)\n",
    "data = [[110,105,99],[105,88,115],[109,120,130]]\n",
    "index = [0,1,2]\n",
    "columns = ['语文','数学','英语']\n",
    "#创建DataFrame数据\n",
    "df = pd.DataFrame(data = data ,index = index, columns = columns)\n",
    "print(df)\n",
    "#遍历DataFrame数据的每一列\n",
    "for col in df.columns:\n",
    "    series = df[col]\n",
    "    print(series)"
   ]
  }
 ],
 "metadata": {
  "kernelspec": {
   "display_name": "Python 3 (ipykernel)",
   "language": "python",
   "name": "python3"
  },
  "language_info": {
   "codemirror_mode": {
    "name": "ipython",
    "version": 3
   },
   "file_extension": ".py",
   "mimetype": "text/x-python",
   "name": "python",
   "nbconvert_exporter": "python",
   "pygments_lexer": "ipython3",
   "version": "3.8.13"
  }
 },
 "nbformat": 4,
 "nbformat_minor": 5
}
