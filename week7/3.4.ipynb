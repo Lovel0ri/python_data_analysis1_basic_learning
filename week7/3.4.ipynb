{
 "cells": [
  {
   "cell_type": "code",
   "execution_count": 8,
   "id": "c95d520c",
   "metadata": {},
   "outputs": [
    {
     "name": "stdout",
     "output_type": "stream",
     "text": [
      "  买家会员名  买家实际支付金额 收货人姓名            宝贝标题\n",
      "0      mrhy1             41.86     周某某      零基础学Python\n",
      "1      mrhy2             41.86     杨某某      零基础学Python\n",
      "2      mrhy3             48.86     刘某某      零基础学Python\n",
      "3      mrhy4             48.86     张某某      零基础学Python\n",
      "4      mrhy5             48.86     赵某某  C#项目开发实战入门\n",
      "   买家会员名 买家支付宝账号  买家实际支付金额  订单状态 收货人姓名  \\\n",
      "0  mmbooks101       ********             41.86  交易成功     赵某人   \n",
      "1  mmbooks102       ********             41.86  交易成功     李某某   \n",
      "2  mmbooks103       ********             48.86  交易成功     高某某   \n",
      "3  mmbooks104       ********             48.86  交易成功     高某某   \n",
      "4  mmbooks105       ********             48.86  交易成功     高某某   \n",
      "\n",
      "                               收货地址     联系手机        订单创建时间  \\\n",
      "0                  贵州省 贵阳市 花溪区  1********** 2018-05-16 09:38:00   \n",
      "1  新疆维吾尔自治区 乌鲁木齐市 水磨沟区  1********** 2018-05-09 15:31:00   \n",
      "2    云南省 红河哈尼族彝族自治州 开远市  1********** 2018-05-25 15:21:00   \n",
      "3    云南省 红河哈尼族彝族自治州 开远市  1********** 2018-05-14 20:21:00   \n",
      "4    云南省 红河哈尼族彝族自治州 开远市  1********** 2018-05-22 18:47:00   \n",
      "\n",
      "        订单付款时间                  宝贝标题  宝贝种类          物流单号  \\\n",
      "0 2018-05-16 09:41:00  Android项目开发实战入门          1  No:221307653963   \n",
      "1 2018-05-09 15:31:00  Android项目开发实战入门          1  No:221307653740   \n",
      "2 2018-05-25 15:21:00  ASP.NET项目开发实战入门          1  No:221307653898   \n",
      "3 2018-05-14 20:22:00  ASP.NET项目开发实战入门          1  No:221307653892   \n",
      "4 2018-05-22 18:47:00       C#项目开发实战入门          1  No:221307653942   \n",
      "\n",
      "   物流公司 订单备注  宝贝总数量      类别 图书编号  \n",
      "0  申通快递    'null           1  全彩系列      B16  \n",
      "1  申通快递    'null           1  全彩系列      B16  \n",
      "2  申通快递    'null           1  全彩系列      B17  \n",
      "3  申通快递    'null           1  全彩系列      B17  \n",
      "4  申通快递    'null           1  全彩系列      B18  \n"
     ]
    }
   ],
   "source": [
    "#3.4.1.1常规导入\n",
    "import pandas as pd\n",
    "#解决数据输出时列名不对齐的问题\n",
    "pd.set_option('display.unicode.east_asian_width',True)\n",
    "df = pd.read_excel('1月.xlsx')\n",
    "print(df.head())\n",
    "df2 = pd.read_excel('1月.xlsx',sheet_name='莫寒')\n",
    "print(df2.head())\n",
    "\n"
   ]
  },
  {
   "cell_type": "code",
   "execution_count": 37,
   "id": "de7c6ef0",
   "metadata": {},
   "outputs": [
    {
     "name": "stdout",
     "output_type": "stream",
     "text": [
      "            买家实际支付金额 收货人姓名            宝贝标题\n",
      "买家会员名                                                 \n",
      "mrhy1                  41.86     周某某      零基础学Python\n",
      "mrhy2                  41.86     杨某某      零基础学Python\n",
      "mrhy3                  48.86     刘某某      零基础学Python\n",
      "mrhy4                  48.86     张某某      零基础学Python\n",
      "mrhy5                  48.86     赵某某  C#项目开发实战入门\n"
     ]
    }
   ],
   "source": [
    "import pandas as pd\n",
    "#解决数据输出时列名不对齐的问题\n",
    "pd.set_option('display.unicode.east_asian_width',True)\n",
    "df = pd.read_excel('1月.xlsx',index_col = 0)#设置”买家会员名“为行索引\n",
    "print(df.head())\n"
   ]
  },
  {
   "cell_type": "code",
   "execution_count": 35,
   "id": "09e84ed8",
   "metadata": {},
   "outputs": [
    {
     "name": "stdout",
     "output_type": "stream",
     "text": [
      "     mrhy1    41.86  周某某                零基础学Python\n",
      "0    mrhy2    41.86  杨某某                零基础学Python\n",
      "1    mrhy3    48.86  刘某某                零基础学Python\n",
      "2    mrhy4    48.86  张某某                零基础学Python\n",
      "3    mrhy5    48.86  赵某某            C#项目开发实战入门\n",
      "4    mrhy6    48.86  李某某            C#项目开发实战入门\n",
      "5    mrhy7   104.72  张某某            C语言精彩编程200例\n",
      "6    mrhy8    55.86  周某某            C语言精彩编程200例\n",
      "7    mrhy9    79.80  李某某            C语言精彩编程200例\n",
      "8   mrhy10    29.90  程某某         C语言项目开发实战入门\n",
      "9   mrhy11    41.86  曹某某         C语言项目开发实战入门\n",
      "10  mrhy12    41.86  陈某某         C语言项目开发实战入门\n",
      "11  mrhy13    41.86  郝某某         C语言项目开发实战入门\n",
      "12  mrhy14    41.86  胡某某         C语言项目开发实战入门\n",
      "13  mrhy15    41.86  孙某某         C语言项目开发实战入门\n",
      "14  mrhy16    41.86  余某某         C语言项目开发实战入门\n",
      "15  mrhy17    48.86  郭某某       JavaWeb项目开发实战入门\n",
      "16  mrhy18    48.86  阿某某       JavaWeb项目开发实战入门\n",
      "17  mrhy19    48.86  高某某       JavaWeb项目开发实战入门\n",
      "18  mrhy20  1268.00  许某某            Java编程词典珍藏版\n",
      "19  mrhy21   195.44  陈某某  Java程序开发全能学习黄金套装\n",
      "20  mrhy22   195.44  张某某  Java程序开发全能学习黄金套装\n",
      "21  mrhy23    97.72  李某某             Java精彩编程200例\n",
      "22  mrhy24    41.86  素某某          Java项目开发实战入门\n",
      "23  mrhy25    41.86  闫某某          Java项目开发实战入门\n",
      "24  mrhy26    41.86  陈某某          Java项目开发实战入门\n",
      "25  mrhy27    48.86  刘某某           JSP项目开发实战入门\n",
      "26  mrhy28    48.86  高某某           JSP项目开发实战入门\n",
      "27  mrhy29    34.86  孟某某                   SQL即查即用\n",
      "28  mrhy30    34.86  郑某某                   SQL即查即用\n",
      "29  mrhy31    34.86  熊某某                   SQL即查即用\n",
      "30  mrhy32    90.72  严某某                   SQL即查即用\n",
      "31  mrhy33    55.86  胡某某     Visual Basic精彩编程200例\n",
      "32  mrhy34    55.86  额某某     Visual Basic精彩编程200例\n",
      "33  mrhy35    55.86  许某某     Visual Basic精彩编程200例\n",
      "34  mrhy36    55.86  陈某某     Visual Basic精彩编程200例\n",
      "35  mrhy37    55.86  刘某某     Visual Basic精彩编程200例\n",
      "36  mrhy38    62.86  方某某               零基础学Android\n",
      "37  mrhy39    62.86  张某某               零基础学Android\n",
      "38  mrhy40    55.86  毛某某                    零基础学C#\n",
      "39  mrhy41    55.86  林某某                    零基础学C#\n",
      "40  mrhy42    55.86  李某某                    零基础学C#\n",
      "41  mrhy43    48.86  晏某某                 零基础学C语言\n",
      "42  mrhy44    48.86  程某某                 零基础学C语言\n",
      "43  mrhy45    48.86  杨某某                  零基础学Java\n",
      "44  mrhy46    48.86  张某某                  零基础学Java\n",
      "45  mrhy47    48.86  王某某                  零基础学Java\n",
      "46  mrhy48    48.86  王某某                  零基础学Java\n",
      "47  mrhy49    48.86  高某某                  零基础学Java\n",
      "48  mrhy50    48.86  李某某                  零基础学Java\n"
     ]
    }
   ],
   "source": [
    "#指定行索引导入Excel数据\n",
    "import pandas as pd\n",
    "#解决数据输出时列名不对齐的问题\n",
    "pd.set_option('display.unicode.east_asian_width',True)\n",
    "df2 = pd.read_excel('1月.xlsx',header= 1)#设置第一行为列索引\n",
    "print(df2)"
   ]
  },
  {
   "cell_type": "code",
   "execution_count": 40,
   "id": "29352da4",
   "metadata": {},
   "outputs": [
    {
     "name": "stdout",
     "output_type": "stream",
     "text": [
      "  买家会员名 收货人姓名\n",
      "0      mrhy1     周某某\n",
      "1      mrhy2     杨某某\n",
      "2      mrhy3     刘某某\n",
      "3      mrhy4     张某某\n",
      "4      mrhy5     赵某某\n"
     ]
    }
   ],
   "source": [
    "#导入第一列数据（索引为0）\n",
    "import pandas as pd\n",
    "#解决数据输出时列名不对齐的问题\n",
    "pd.set_option('display.unicode.east_asian_width',True)\n",
    "df1 = pd.read_excel('1月.xlsx',usecols=[0])#导入第一列数据\n",
    "print(df1.head())"
   ]
  },
  {
   "cell_type": "code",
   "execution_count": 41,
   "id": "01970862",
   "metadata": {},
   "outputs": [
    {
     "name": "stdout",
     "output_type": "stream",
     "text": [
      "  买家会员名 收货人姓名\n",
      "0      mrhy1     周某某\n",
      "1      mrhy2     杨某某\n",
      "2      mrhy3     刘某某\n",
      "3      mrhy4     张某某\n",
      "4      mrhy5     赵某某\n"
     ]
    }
   ],
   "source": [
    "#导入多列数据\n",
    "import pandas as pd\n",
    "#解决数据输出时列名不对齐的问题\n",
    "pd.set_option('display.unicode.east_asian_width',True)\n",
    "df1 = pd.read_excel('1月.xlsx',usecols=[0,2])#导入前三列数据\n",
    "print(df1.head())"
   ]
  },
  {
   "cell_type": "code",
   "execution_count": 48,
   "id": "77d46a2c",
   "metadata": {},
   "outputs": [
    {
     "name": "stdout",
     "output_type": "stream",
     "text": [
      "                      宝贝标题\n",
      "买家会员名                    \n",
      "mrhy1           零基础学Python\n",
      "mrhy2           零基础学Python\n",
      "mrhy3           零基础学Python\n",
      "mrhy4           零基础学Python\n",
      "mrhy5       C#项目开发实战入门\n"
     ]
    }
   ],
   "source": [
    "#导入指定列\n",
    "import pandas as pd\n",
    "#解决数据输出时列名不对齐的问题\n",
    "pd.set_option('display.unicode.east_asian_width',True)\n",
    "df1 = pd.read_excel('1月.xlsx',usecols=['买家会员名','宝贝标题'],index_col=0)\n",
    "print(df1.head())"
   ]
  },
  {
   "cell_type": "code",
   "execution_count": 50,
   "id": "053203b3",
   "metadata": {},
   "outputs": [
    {
     "name": "stdout",
     "output_type": "stream",
     "text": [
      "  买家会员名  买家实际支付金额 收货人姓名            宝贝标题    订单付款时间 \n",
      "0      mrhy1             41.86     周某某      零基础学Python   2018/5/16 9:41\n",
      "1      mrhy2             41.86     杨某某      零基础学Python   2018/5/9 15:31\n",
      "2      mrhy3             48.86     刘某某      零基础学Python  2018/5/25 15:21\n",
      "3      mrhy4             48.86     张某某      零基础学Python  2018/5/25 15:21\n",
      "4      mrhy5             48.86     赵某某  C#项目开发实战入门  2018/5/25 15:21\n"
     ]
    }
   ],
   "source": [
    "#3.4.2导入csv文件\n",
    "import pandas as pd\n",
    "#设置数据显示的最大列数和宽度\n",
    "pd.set_option('display.max_columns',500)\n",
    "pd.set_option('display.width',1000)\n",
    "#解决数据输出时列名不对齐的问题\n",
    "pd.set_option('display.unicode.east_asian_width',True)\n",
    "df1 = pd.read_csv('1月.csv',encoding = 'gbk')#导入csv文件，并指定编码格式\n",
    "print(df1.head())"
   ]
  },
  {
   "cell_type": "code",
   "execution_count": 52,
   "id": "10485c71",
   "metadata": {},
   "outputs": [
    {
     "name": "stdout",
     "output_type": "stream",
     "text": [
      "  买家会员名  买家实际支付金额 收货人姓名            宝贝标题    订单付款时间 \n",
      "0      mrhy1             41.86     周某某      零基础学Python   2018/5/16 9:41\n",
      "1      mrhy2             41.86     杨某某      零基础学Python   2018/5/9 15:31\n",
      "2      mrhy3             48.86     刘某某      零基础学Python  2018/5/25 15:21\n",
      "3      mrhy4             48.86     张某某      零基础学Python  2018/5/25 15:21\n",
      "4      mrhy5             48.86     赵某某  C#项目开发实战入门  2018/5/25 15:21\n"
     ]
    }
   ],
   "source": [
    "#导入txt文件\n",
    "import pandas as pd\n",
    "df1 = pd.read_csv('1月.txt',sep = '\\t',encoding = 'gbk')\n",
    "print(df1.head())"
   ]
  }
 ],
 "metadata": {
  "kernelspec": {
   "display_name": "Python 3 (ipykernel)",
   "language": "python",
   "name": "python3"
  },
  "language_info": {
   "codemirror_mode": {
    "name": "ipython",
    "version": 3
   },
   "file_extension": ".py",
   "mimetype": "text/x-python",
   "name": "python",
   "nbconvert_exporter": "python",
   "pygments_lexer": "ipython3",
   "version": "3.8.13"
  }
 },
 "nbformat": 4,
 "nbformat_minor": 5
}
