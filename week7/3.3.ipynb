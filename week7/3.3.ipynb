{
 "cells": [
  {
   "cell_type": "code",
   "execution_count": 3,
   "id": "c78be33b",
   "metadata": {},
   "outputs": [
    {
     "name": "stdout",
     "output_type": "stream",
     "text": [
      "   语文  数学  英语\n",
      "0   110   105    99\n",
      "1   105    88   115\n",
      "2   109   120   130\n"
     ]
    }
   ],
   "source": [
    "#通过列表创建成绩表\n",
    "import pandas as pd\n",
    "#解决数据输出时列名不对齐的问题\n",
    "pd.set_option('display.unicode.east_asian_width',True)\n",
    "data = [[110,105,99],[105,88,115],[109,120,130]]\n",
    "columns = ['语文', '数学', '英语']\n",
    "df = pd.DataFrame(data = data ,columns = columns )\n",
    "print(df)"
   ]
  },
  {
   "cell_type": "code",
   "execution_count": 6,
   "id": "38f7df74",
   "metadata": {},
   "outputs": [
    {
     "name": "stdout",
     "output_type": "stream",
     "text": [
      "   语文  数学  英语      班级\n",
      "0   110   105   109  高一七班\n",
      "1   105    88   120  高一七班\n",
      "2    99   115   130  高一七班\n"
     ]
    }
   ],
   "source": [
    "#3.3.2.2通过字典创建DataFrame对象\n",
    "import pandas as pd\n",
    "pd.set_option('display.unicode.east_asian_width',True)\n",
    "df = pd.DataFrame({\n",
    "    '语文':[110,105,99],\n",
    "    '数学':[105,88,115],\n",
    "    '英语':[109,120,130],\n",
    "    '班级':'高一七班'\n",
    "},index = [0, 1, 2])\n",
    "print(df)"
   ]
  },
  {
   "cell_type": "code",
   "execution_count": null,
   "id": "a4b0db96",
   "metadata": {},
   "outputs": [],
   "source": [
    "import pandas as pd\n",
    "pd.set_option('display.unicode.east_asian_width',True)\n",
    "data = ['查看所有元素的值','查看所有元素的类型','查看所有行名,列名','查看所有重复的列名、重命名列名','行列数据转换','查看前n条数据，默认五条','查看后n条数据，默认五条','查看行数和列数，[0]']"
   ]
  }
 ],
 "metadata": {
  "kernelspec": {
   "display_name": "Python 3 (ipykernel)",
   "language": "python",
   "name": "python3"
  },
  "language_info": {
   "codemirror_mode": {
    "name": "ipython",
    "version": 3
   },
   "file_extension": ".py",
   "mimetype": "text/x-python",
   "name": "python",
   "nbconvert_exporter": "python",
   "pygments_lexer": "ipython3",
   "version": "3.8.13"
  }
 },
 "nbformat": 4,
 "nbformat_minor": 5
}
